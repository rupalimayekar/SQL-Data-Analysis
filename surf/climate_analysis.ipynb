{
 "cells": [
  {
   "cell_type": "markdown",
   "metadata": {},
   "source": [
    "# Surf's Up\n",
    "Performing Climate Analysis for the climate in Hawaii and also providing an api to share that with others.\n",
    "\n",
    "## Climate Analysis\n",
    "This notebook will read the climate data from the database and perform the analysis on that data. The following two notebooks need to be run before running this code to ensure we have the data in the database\n",
    "1. data_engineering.ipynb\n",
    "2. database_engineering.ipynb \n",
    "\n",
    "The SQLite database is availabe in the following file in the Resources folder:\n",
    "* hawaii.sqlite"
   ]
  },
  {
   "cell_type": "code",
   "execution_count": 152,
   "metadata": {
    "collapsed": true
   },
   "outputs": [],
   "source": [
    "# python dependencies\n",
    "import pandas as pd\n",
    "import numpy as np\n",
    "import datetime as dt\n",
    "\n",
    "# Python SQL toolkit and Object Relational Mapper\n",
    "import sqlalchemy\n",
    "from sqlalchemy import Column, Float, Integer, String, Date\n",
    "from sqlalchemy.ext.declarative import declarative_base\n",
    "from sqlalchemy.ext.automap import automap_base\n",
    "from sqlalchemy.orm import Session\n",
    "from sqlalchemy import create_engine, inspect, func\n",
    "from sqlalchemy import ForeignKey\n",
    "\n",
    "# Plotting dependencies\n",
    "import matplotlib\n",
    "from matplotlib import style\n",
    "style.use(\"seaborn\")\n",
    "import matplotlib.pyplot as plt"
   ]
  },
  {
   "cell_type": "code",
   "execution_count": 153,
   "metadata": {
    "collapsed": true
   },
   "outputs": [],
   "source": [
    "# Create the database engine to get our data from\n",
    "engine = create_engine(\"sqlite:///Resources/hawaii.sqlite\", echo=False)\n",
    "conn = engine.connect()\n",
    "\n",
    "# Reflect Database into ORM class\n",
    "Base = automap_base()\n",
    "Base.prepare(engine, reflect=True)\n",
    "\n",
    "#inspect the tables\n",
    "inspector = inspect(engine)"
   ]
  },
  {
   "cell_type": "code",
   "execution_count": 154,
   "metadata": {},
   "outputs": [
    {
     "data": {
      "text/plain": [
       "['measurements', 'stations']"
      ]
     },
     "execution_count": 154,
     "metadata": {},
     "output_type": "execute_result"
    }
   ],
   "source": [
    "inspector.get_table_names()"
   ]
  },
  {
   "cell_type": "code",
   "execution_count": 155,
   "metadata": {},
   "outputs": [
    {
     "data": {
      "text/plain": [
       "[(1, 'USC00519397', 'WAIKIKI 717.2, HI US', 21.2716, -157.8168, 3.0),\n",
       " (2, 'USC00513117', 'KANEOHE 838.1, HI US', 21.4234, -157.8015, 14.6),\n",
       " (3, 'USC00514830', 'KUALOA RANCH HEADQUARTERS 886.9, HI US', 21.5213, -157.8374, 7.0),\n",
       " (4, 'USC00517948', 'PEARL CITY, HI US', 21.3934, -157.9751, 11.9),\n",
       " (5, 'USC00518838', 'UPPER WAHIAWA 874.3, HI US', 21.4992, -158.0111, 306.6)]"
      ]
     },
     "execution_count": 155,
     "metadata": {},
     "output_type": "execute_result"
    }
   ],
   "source": [
    "stations_result = conn.execute(\"SELECT * FROM stations LIMIT 5\").fetchall()\n",
    "stations_result"
   ]
  },
  {
   "cell_type": "code",
   "execution_count": 156,
   "metadata": {},
   "outputs": [
    {
     "data": {
      "text/plain": [
       "[(2685, 'USC00519397', '2017-08-23', 0.0, 81.0),\n",
       " (7318, 'USC00514830', '2017-08-23', 0.0, 82.0),\n",
       " (10915, 'USC00519523', '2017-08-23', 0.08, 82.0),\n",
       " (18103, 'USC00516128', '2017-08-23', 0.45, 76.0),\n",
       " (2684, 'USC00519397', '2017-08-22', 0.0, 82.0)]"
      ]
     },
     "execution_count": 156,
     "metadata": {},
     "output_type": "execute_result"
    }
   ],
   "source": [
    "measurements_result = conn.execute(\"SELECT * FROM measurements order by date desc LIMIT 5\").fetchall()\n",
    "measurements_result\n"
   ]
  },
  {
   "cell_type": "markdown",
   "metadata": {},
   "source": [
    "### Precipitation Analysis\n",
    "We will take a look at the last 12 months of precipitation data."
   ]
  },
  {
   "cell_type": "code",
   "execution_count": 157,
   "metadata": {
    "collapsed": true
   },
   "outputs": [],
   "source": [
    "# Define our base object\n",
    "Base = declarative_base()\n",
    "\n",
    "# Define our data object classes\n",
    "class Station(Base):\n",
    "    __tablename__ = 'stations'\n",
    "    id = Column(Integer, primary_key=True)\n",
    "    station_id = Column(String(255))\n",
    "    station_name = Column(String(255))\n",
    "    latitude = Column(Float(3.5))\n",
    "    longitude = Column(Float(3.5))\n",
    "    elevation = Column(Float(3.1))\n",
    "\n",
    "class Measurement(Base):\n",
    "    __tablename__ = \"measurements\"\n",
    "    id = Column(Integer, primary_key=True)\n",
    "    station_id = Column(String(255), ForeignKey(\"stations.station_id\"), nullable=False)\n",
    "    date = Column(String(255))\n",
    "    precipitation = Column(Float(1.2))\n",
    "    temperature = Column(Float(3.2))\n",
    "    "
   ]
  },
  {
   "cell_type": "code",
   "execution_count": 158,
   "metadata": {
    "collapsed": true
   },
   "outputs": [],
   "source": [
    "# Get the session object to run queries\n",
    "session = Session(engine)\n",
    "\n",
    "# Get the date a year ago\n",
    "year_ago = dt.date.today() - dt.timedelta(days=365)\n",
    "\n",
    "# query for the precipitation data in the past year\n",
    "result = session.query(Measurement.date, Measurement.precipitation).\\\n",
    "    filter(Measurement.date > year_ago).\\\n",
    "    order_by(Measurement.date.desc()).all()"
   ]
  },
  {
   "cell_type": "code",
   "execution_count": 159,
   "metadata": {},
   "outputs": [
    {
     "data": {
      "text/html": [
       "<div>\n",
       "<style>\n",
       "    .dataframe thead tr:only-child th {\n",
       "        text-align: right;\n",
       "    }\n",
       "\n",
       "    .dataframe thead th {\n",
       "        text-align: left;\n",
       "    }\n",
       "\n",
       "    .dataframe tbody tr th {\n",
       "        vertical-align: top;\n",
       "    }\n",
       "</style>\n",
       "<table border=\"1\" class=\"dataframe\">\n",
       "  <thead>\n",
       "    <tr style=\"text-align: right;\">\n",
       "      <th></th>\n",
       "      <th>date</th>\n",
       "      <th>precipitation</th>\n",
       "    </tr>\n",
       "  </thead>\n",
       "  <tbody>\n",
       "    <tr>\n",
       "      <th>0</th>\n",
       "      <td>2017-08-23</td>\n",
       "      <td>0.00</td>\n",
       "    </tr>\n",
       "    <tr>\n",
       "      <th>1</th>\n",
       "      <td>2017-08-23</td>\n",
       "      <td>0.00</td>\n",
       "    </tr>\n",
       "    <tr>\n",
       "      <th>2</th>\n",
       "      <td>2017-08-23</td>\n",
       "      <td>0.08</td>\n",
       "    </tr>\n",
       "    <tr>\n",
       "      <th>3</th>\n",
       "      <td>2017-08-23</td>\n",
       "      <td>0.45</td>\n",
       "    </tr>\n",
       "    <tr>\n",
       "      <th>4</th>\n",
       "      <td>2017-08-22</td>\n",
       "      <td>0.00</td>\n",
       "    </tr>\n",
       "  </tbody>\n",
       "</table>\n",
       "</div>"
      ],
      "text/plain": [
       "         date  precipitation\n",
       "0  2017-08-23           0.00\n",
       "1  2017-08-23           0.00\n",
       "2  2017-08-23           0.08\n",
       "3  2017-08-23           0.45\n",
       "4  2017-08-22           0.00"
      ]
     },
     "execution_count": 159,
     "metadata": {},
     "output_type": "execute_result"
    }
   ],
   "source": [
    "# Create a dataframe from the result\n",
    "precipitation_df = pd.DataFrame(result)\n",
    "precipitation_df.head()"
   ]
  },
  {
   "cell_type": "code",
   "execution_count": 160,
   "metadata": {
    "collapsed": true
   },
   "outputs": [],
   "source": [
    "# Set the date column as index\n",
    "precipitation_df.set_index('date', inplace=True)"
   ]
  },
  {
   "cell_type": "code",
   "execution_count": 161,
   "metadata": {},
   "outputs": [
    {
     "data": {
      "text/plain": [
       "0.0"
      ]
     },
     "execution_count": 161,
     "metadata": {},
     "output_type": "execute_result"
    }
   ],
   "source": [
    "precipitation_df[\"precipitation\"].min()"
   ]
  },
  {
   "cell_type": "code",
   "execution_count": 162,
   "metadata": {},
   "outputs": [
    {
     "data": {
      "image/png": "[encoded data removed]",
      "text/plain": [
       "<matplotlib.figure.Figure at 0x1180cf518>"
      ]
     },
     "metadata": {},
     "output_type": "display_data"
    }
   ],
   "source": [
    "# calculate the values for the x-ticks\n",
    "l = len(precipitation_df)\n",
    "tick_locations = np.arange(0,l,int(l/11))\n",
    "tick_labels = [precipitation_df.index[i] for i in tick_locations]\n",
    "\n",
    "# Plot the data\n",
    "precipitation_df.plot.bar(width=2)\n",
    "plt.title(\"Precipitation in Hawaii in the past year\")\n",
    "plt.ylabel(\"Precipitation\")\n",
    "plt.xlabel(\"Date\")\n",
    "plt.xticks(tick_locations, tick_labels, rotation=\"40\", ha=\"right\")\n",
    "plt.tight_layout()\n",
    "plt.show()"
   ]
  },
  {
   "cell_type": "markdown",
   "metadata": {},
   "source": [
    "### Precipitation Analysis Summary"
   ]
  },
  {
   "cell_type": "code",
   "execution_count": 165,
   "metadata": {},
   "outputs": [
    {
     "data": {
      "text/html": [
       "<div>\n",
       "<style>\n",
       "    .dataframe thead tr:only-child th {\n",
       "        text-align: right;\n",
       "    }\n",
       "\n",
       "    .dataframe thead th {\n",
       "        text-align: left;\n",
       "    }\n",
       "\n",
       "    .dataframe tbody tr th {\n",
       "        vertical-align: top;\n",
       "    }\n",
       "</style>\n",
       "<table border=\"1\" class=\"dataframe\">\n",
       "  <thead>\n",
       "    <tr style=\"text-align: right;\">\n",
       "      <th></th>\n",
       "      <th>precipitation</th>\n",
       "    </tr>\n",
       "  </thead>\n",
       "  <tbody>\n",
       "    <tr>\n",
       "      <th>count</th>\n",
       "      <td>741.000000</td>\n",
       "    </tr>\n",
       "    <tr>\n",
       "      <th>mean</th>\n",
       "      <td>0.173252</td>\n",
       "    </tr>\n",
       "    <tr>\n",
       "      <th>std</th>\n",
       "      <td>0.436185</td>\n",
       "    </tr>\n",
       "    <tr>\n",
       "      <th>min</th>\n",
       "      <td>0.000000</td>\n",
       "    </tr>\n",
       "    <tr>\n",
       "      <th>25%</th>\n",
       "      <td>0.000000</td>\n",
       "    </tr>\n",
       "    <tr>\n",
       "      <th>50%</th>\n",
       "      <td>0.020000</td>\n",
       "    </tr>\n",
       "    <tr>\n",
       "      <th>75%</th>\n",
       "      <td>0.140000</td>\n",
       "    </tr>\n",
       "    <tr>\n",
       "      <th>max</th>\n",
       "      <td>6.250000</td>\n",
       "    </tr>\n",
       "  </tbody>\n",
       "</table>\n",
       "</div>"
      ],
      "text/plain": [
       "       precipitation\n",
       "count     741.000000\n",
       "mean        0.173252\n",
       "std         0.436185\n",
       "min         0.000000\n",
       "25%         0.000000\n",
       "50%         0.020000\n",
       "75%         0.140000\n",
       "max         6.250000"
      ]
     },
     "execution_count": 165,
     "metadata": {},
     "output_type": "execute_result"
    }
   ],
   "source": [
    "precipitation_df.describe()"
   ]
  },
  {
   "cell_type": "markdown",
   "metadata": {},
   "source": [
    "### Station Analysis"
   ]
  },
  {
   "cell_type": "markdown",
   "metadata": {},
   "source": [
    "#### Get the total number of stations.\n",
    "\n"
   ]
  },
  {
   "cell_type": "code",
   "execution_count": 166,
   "metadata": {},
   "outputs": [
    {
     "data": {
      "text/plain": [
       "9"
      ]
     },
     "execution_count": 166,
     "metadata": {},
     "output_type": "execute_result"
    }
   ],
   "source": [
    "# Total number of stations\n",
    "result = session.query(func.count(Station.station_id)).all()\n",
    "list(np.ravel(result))[0]"
   ]
  },
  {
   "cell_type": "markdown",
   "metadata": {},
   "source": [
    "#### Get the most active station / Which station has the highest number of observations?"
   ]
  },
  {
   "cell_type": "code",
   "execution_count": 167,
   "metadata": {},
   "outputs": [
    {
     "data": {
      "text/html": [
       "<div>\n",
       "<style>\n",
       "    .dataframe thead tr:only-child th {\n",
       "        text-align: right;\n",
       "    }\n",
       "\n",
       "    .dataframe thead th {\n",
       "        text-align: left;\n",
       "    }\n",
       "\n",
       "    .dataframe tbody tr th {\n",
       "        vertical-align: top;\n",
       "    }\n",
       "</style>\n",
       "<table border=\"1\" class=\"dataframe\">\n",
       "  <thead>\n",
       "    <tr style=\"text-align: right;\">\n",
       "      <th></th>\n",
       "      <th>station_id</th>\n",
       "      <th>station_name</th>\n",
       "      <th>observation count</th>\n",
       "    </tr>\n",
       "  </thead>\n",
       "  <tbody>\n",
       "    <tr>\n",
       "      <th>0</th>\n",
       "      <td>USC00519281</td>\n",
       "      <td>WAIHEE 837.5, HI US</td>\n",
       "      <td>2772</td>\n",
       "    </tr>\n",
       "  </tbody>\n",
       "</table>\n",
       "</div>"
      ],
      "text/plain": [
       "    station_id         station_name  observation count\n",
       "0  USC00519281  WAIHEE 837.5, HI US               2772"
      ]
     },
     "execution_count": 167,
     "metadata": {},
     "output_type": "execute_result"
    }
   ],
   "source": [
    "# define the function to use\n",
    "station_count = func.count(Measurement.station_id)\n",
    "\n",
    "result = session.query(Measurement.station_id, Station.station_name, station_count).\\\n",
    "        filter(Station.station_id == Measurement.station_id).\\\n",
    "        group_by(Measurement.station_id).order_by(station_count.desc()).first()\n",
    "\n",
    "highest_obs_station = result[0]\n",
    "\n",
    "df = pd.DataFrame([result], columns=[\"station_id\", \"station_name\", \"observation count\"])\n",
    "df"
   ]
  },
  {
   "cell_type": "markdown",
   "metadata": {},
   "source": [
    "#### Get the stations and observation counts in descending order"
   ]
  },
  {
   "cell_type": "code",
   "execution_count": 168,
   "metadata": {},
   "outputs": [
    {
     "data": {
      "text/html": [
       "<div>\n",
       "<style>\n",
       "    .dataframe thead tr:only-child th {\n",
       "        text-align: right;\n",
       "    }\n",
       "\n",
       "    .dataframe thead th {\n",
       "        text-align: left;\n",
       "    }\n",
       "\n",
       "    .dataframe tbody tr th {\n",
       "        vertical-align: top;\n",
       "    }\n",
       "</style>\n",
       "<table border=\"1\" class=\"dataframe\">\n",
       "  <thead>\n",
       "    <tr style=\"text-align: right;\">\n",
       "      <th></th>\n",
       "      <th>station_id</th>\n",
       "      <th>station_name</th>\n",
       "      <th>observation count</th>\n",
       "    </tr>\n",
       "  </thead>\n",
       "  <tbody>\n",
       "    <tr>\n",
       "      <th>0</th>\n",
       "      <td>USC00519281</td>\n",
       "      <td>WAIHEE 837.5, HI US</td>\n",
       "      <td>2772</td>\n",
       "    </tr>\n",
       "    <tr>\n",
       "      <th>1</th>\n",
       "      <td>USC00513117</td>\n",
       "      <td>KANEOHE 838.1, HI US</td>\n",
       "      <td>2696</td>\n",
       "    </tr>\n",
       "    <tr>\n",
       "      <th>2</th>\n",
       "      <td>USC00519397</td>\n",
       "      <td>WAIKIKI 717.2, HI US</td>\n",
       "      <td>2685</td>\n",
       "    </tr>\n",
       "    <tr>\n",
       "      <th>3</th>\n",
       "      <td>USC00519523</td>\n",
       "      <td>WAIMANALO EXPERIMENTAL FARM, HI US</td>\n",
       "      <td>2572</td>\n",
       "    </tr>\n",
       "    <tr>\n",
       "      <th>4</th>\n",
       "      <td>USC00516128</td>\n",
       "      <td>MANOA LYON ARBO 785.2, HI US</td>\n",
       "      <td>2484</td>\n",
       "    </tr>\n",
       "    <tr>\n",
       "      <th>5</th>\n",
       "      <td>USC00514830</td>\n",
       "      <td>KUALOA RANCH HEADQUARTERS 886.9, HI US</td>\n",
       "      <td>1937</td>\n",
       "    </tr>\n",
       "    <tr>\n",
       "      <th>6</th>\n",
       "      <td>USC00511918</td>\n",
       "      <td>HONOLULU OBSERVATORY 702.2, HI US</td>\n",
       "      <td>1932</td>\n",
       "    </tr>\n",
       "    <tr>\n",
       "      <th>7</th>\n",
       "      <td>USC00517948</td>\n",
       "      <td>PEARL CITY, HI US</td>\n",
       "      <td>683</td>\n",
       "    </tr>\n",
       "    <tr>\n",
       "      <th>8</th>\n",
       "      <td>USC00518838</td>\n",
       "      <td>UPPER WAHIAWA 874.3, HI US</td>\n",
       "      <td>342</td>\n",
       "    </tr>\n",
       "  </tbody>\n",
       "</table>\n",
       "</div>"
      ],
      "text/plain": [
       "    station_id                            station_name  observation count\n",
       "0  USC00519281                     WAIHEE 837.5, HI US               2772\n",
       "1  USC00513117                    KANEOHE 838.1, HI US               2696\n",
       "2  USC00519397                    WAIKIKI 717.2, HI US               2685\n",
       "3  USC00519523      WAIMANALO EXPERIMENTAL FARM, HI US               2572\n",
       "4  USC00516128            MANOA LYON ARBO 785.2, HI US               2484\n",
       "5  USC00514830  KUALOA RANCH HEADQUARTERS 886.9, HI US               1937\n",
       "6  USC00511918       HONOLULU OBSERVATORY 702.2, HI US               1932\n",
       "7  USC00517948                       PEARL CITY, HI US                683\n",
       "8  USC00518838              UPPER WAHIAWA 874.3, HI US                342"
      ]
     },
     "execution_count": 168,
     "metadata": {},
     "output_type": "execute_result"
    }
   ],
   "source": [
    "result = session.query(Measurement.station_id, Station.station_name, station_count).\\\n",
    "        filter(Station.station_id == Measurement.station_id).\\\n",
    "        group_by(Measurement.station_id).order_by(station_count.desc()).all()\n",
    "\n",
    "df = pd.DataFrame(result, columns=[\"station_id\", \"station_name\", \"observation count\"])\n",
    "df"
   ]
  },
  {
   "cell_type": "code",
   "execution_count": 169,
   "metadata": {},
   "outputs": [
    {
     "data": {
      "text/plain": [
       "[('USC00519281', 'WAIHEE 837.5, HI US', 2772),\n",
       " ('USC00513117', 'KANEOHE 838.1, HI US', 2696),\n",
       " ('USC00519397', 'WAIKIKI 717.2, HI US', 2685),\n",
       " ('USC00519523', 'WAIMANALO EXPERIMENTAL FARM, HI US', 2572),\n",
       " ('USC00516128', 'MANOA LYON ARBO 785.2, HI US', 2484),\n",
       " ('USC00514830', 'KUALOA RANCH HEADQUARTERS 886.9, HI US', 1937),\n",
       " ('USC00511918', 'HONOLULU OBSERVATORY 702.2, HI US', 1932),\n",
       " ('USC00517948', 'PEARL CITY, HI US', 683),\n",
       " ('USC00518838', 'UPPER WAHIAWA 874.3, HI US', 342)]"
      ]
     },
     "execution_count": 169,
     "metadata": {},
     "output_type": "execute_result"
    }
   ],
   "source": [
    "query_string = \"select m.station_id, s.station_name, count(m.station_id) AS station_count \\\n",
    "                from measurements m, stations s \\\n",
    "                where s.station_id=m.station_id \\\n",
    "                group by m.station_id \\\n",
    "                order by station_count desc\"\n",
    "conn.execute(query_string).fetchall()"
   ]
  },
  {
   "cell_type": "markdown",
   "metadata": {},
   "source": []
  },
  {
   "cell_type": "markdown",
   "metadata": {},
   "source": [
    "#### Get the last 12 months of temperature observation data (tobs)."
   ]
  },
  {
   "cell_type": "code",
   "execution_count": 170,
   "metadata": {},
   "outputs": [
    {
     "name": "stdout",
     "output_type": "stream",
     "text": [
      "2017-08-23\n",
      "2016-08-23\n"
     ]
    }
   ],
   "source": [
    "result = session.query(Measurement.date).\\\n",
    "    order_by(Measurement.date.desc()).first()\n",
    "last_date = result[0]\n",
    "prev_year_date = dt.datetime.strptime(last_date, '%Y-%m-%d').date() - dt.timedelta(days=365)\n",
    "print(last_date)\n",
    "print(prev_year_date)"
   ]
  },
  {
   "cell_type": "code",
   "execution_count": 171,
   "metadata": {},
   "outputs": [
    {
     "data": {
      "text/html": [
       "<div>\n",
       "<style>\n",
       "    .dataframe thead tr:only-child th {\n",
       "        text-align: right;\n",
       "    }\n",
       "\n",
       "    .dataframe thead th {\n",
       "        text-align: left;\n",
       "    }\n",
       "\n",
       "    .dataframe tbody tr th {\n",
       "        vertical-align: top;\n",
       "    }\n",
       "</style>\n",
       "<table border=\"1\" class=\"dataframe\">\n",
       "  <thead>\n",
       "    <tr style=\"text-align: right;\">\n",
       "      <th></th>\n",
       "      <th>station_id</th>\n",
       "      <th>date</th>\n",
       "      <th>temperature</th>\n",
       "    </tr>\n",
       "  </thead>\n",
       "  <tbody>\n",
       "    <tr>\n",
       "      <th>0</th>\n",
       "      <td>USC00519397</td>\n",
       "      <td>2017-08-23</td>\n",
       "      <td>81.0</td>\n",
       "    </tr>\n",
       "    <tr>\n",
       "      <th>1</th>\n",
       "      <td>USC00514830</td>\n",
       "      <td>2017-08-23</td>\n",
       "      <td>82.0</td>\n",
       "    </tr>\n",
       "    <tr>\n",
       "      <th>2</th>\n",
       "      <td>USC00519523</td>\n",
       "      <td>2017-08-23</td>\n",
       "      <td>82.0</td>\n",
       "    </tr>\n",
       "    <tr>\n",
       "      <th>3</th>\n",
       "      <td>USC00516128</td>\n",
       "      <td>2017-08-23</td>\n",
       "      <td>76.0</td>\n",
       "    </tr>\n",
       "    <tr>\n",
       "      <th>4</th>\n",
       "      <td>USC00519397</td>\n",
       "      <td>2017-08-22</td>\n",
       "      <td>82.0</td>\n",
       "    </tr>\n",
       "    <tr>\n",
       "      <th>5</th>\n",
       "      <td>USC00519523</td>\n",
       "      <td>2017-08-22</td>\n",
       "      <td>82.0</td>\n",
       "    </tr>\n",
       "    <tr>\n",
       "      <th>6</th>\n",
       "      <td>USC00516128</td>\n",
       "      <td>2017-08-22</td>\n",
       "      <td>76.0</td>\n",
       "    </tr>\n",
       "    <tr>\n",
       "      <th>7</th>\n",
       "      <td>USC00519397</td>\n",
       "      <td>2017-08-21</td>\n",
       "      <td>81.0</td>\n",
       "    </tr>\n",
       "    <tr>\n",
       "      <th>8</th>\n",
       "      <td>USC00514830</td>\n",
       "      <td>2017-08-21</td>\n",
       "      <td>79.0</td>\n",
       "    </tr>\n",
       "    <tr>\n",
       "      <th>9</th>\n",
       "      <td>USC00516128</td>\n",
       "      <td>2017-08-21</td>\n",
       "      <td>76.0</td>\n",
       "    </tr>\n",
       "  </tbody>\n",
       "</table>\n",
       "</div>"
      ],
      "text/plain": [
       "    station_id        date  temperature\n",
       "0  USC00519397  2017-08-23         81.0\n",
       "1  USC00514830  2017-08-23         82.0\n",
       "2  USC00519523  2017-08-23         82.0\n",
       "3  USC00516128  2017-08-23         76.0\n",
       "4  USC00519397  2017-08-22         82.0\n",
       "5  USC00519523  2017-08-22         82.0\n",
       "6  USC00516128  2017-08-22         76.0\n",
       "7  USC00519397  2017-08-21         81.0\n",
       "8  USC00514830  2017-08-21         79.0\n",
       "9  USC00516128  2017-08-21         76.0"
      ]
     },
     "execution_count": 171,
     "metadata": {},
     "output_type": "execute_result"
    }
   ],
   "source": [
    "result = session.query(Measurement.station_id, Measurement.date, Measurement.temperature).\\\n",
    "    filter(Measurement.date > prev_year_date).\\\n",
    "    order_by(Measurement.date.desc()).all()\n",
    "result\n",
    "df = pd.DataFrame(result, columns=[\"station_id\", \"date\", \"temperature\"])\n",
    "df.head(10)"
   ]
  },
  {
   "cell_type": "markdown",
   "metadata": {},
   "source": [
    "#### Filter by the station with the highest number of observations."
   ]
  },
  {
   "cell_type": "code",
   "execution_count": 172,
   "metadata": {},
   "outputs": [
    {
     "data": {
      "text/plain": [
       "'USC00519397'"
      ]
     },
     "execution_count": 172,
     "metadata": {},
     "output_type": "execute_result"
    }
   ],
   "source": [
    "# Get the station id with the higest count from the last query using the data frame\n",
    "count_df = df.groupby(\"station_id\").count()\n",
    "count_df.sort_values(\"date\", ascending=False, inplace=True)\n",
    "top_station = count_df.index[0]\n",
    "top_station"
   ]
  },
  {
   "cell_type": "code",
   "execution_count": 173,
   "metadata": {},
   "outputs": [
    {
     "data": {
      "text/html": [
       "<div>\n",
       "<style>\n",
       "    .dataframe thead tr:only-child th {\n",
       "        text-align: right;\n",
       "    }\n",
       "\n",
       "    .dataframe thead th {\n",
       "        text-align: left;\n",
       "    }\n",
       "\n",
       "    .dataframe tbody tr th {\n",
       "        vertical-align: top;\n",
       "    }\n",
       "</style>\n",
       "<table border=\"1\" class=\"dataframe\">\n",
       "  <thead>\n",
       "    <tr style=\"text-align: right;\">\n",
       "      <th></th>\n",
       "      <th>station_id</th>\n",
       "      <th>date</th>\n",
       "      <th>temperature</th>\n",
       "    </tr>\n",
       "  </thead>\n",
       "  <tbody>\n",
       "    <tr>\n",
       "      <th>0</th>\n",
       "      <td>USC00519397</td>\n",
       "      <td>2017-08-23</td>\n",
       "      <td>81.0</td>\n",
       "    </tr>\n",
       "    <tr>\n",
       "      <th>1</th>\n",
       "      <td>USC00519397</td>\n",
       "      <td>2017-08-22</td>\n",
       "      <td>82.0</td>\n",
       "    </tr>\n",
       "    <tr>\n",
       "      <th>2</th>\n",
       "      <td>USC00519397</td>\n",
       "      <td>2017-08-21</td>\n",
       "      <td>81.0</td>\n",
       "    </tr>\n",
       "    <tr>\n",
       "      <th>3</th>\n",
       "      <td>USC00519397</td>\n",
       "      <td>2017-08-20</td>\n",
       "      <td>81.0</td>\n",
       "    </tr>\n",
       "    <tr>\n",
       "      <th>4</th>\n",
       "      <td>USC00519397</td>\n",
       "      <td>2017-08-19</td>\n",
       "      <td>79.0</td>\n",
       "    </tr>\n",
       "    <tr>\n",
       "      <th>5</th>\n",
       "      <td>USC00519397</td>\n",
       "      <td>2017-08-18</td>\n",
       "      <td>80.0</td>\n",
       "    </tr>\n",
       "    <tr>\n",
       "      <th>6</th>\n",
       "      <td>USC00519397</td>\n",
       "      <td>2017-08-15</td>\n",
       "      <td>78.0</td>\n",
       "    </tr>\n",
       "    <tr>\n",
       "      <th>7</th>\n",
       "      <td>USC00519397</td>\n",
       "      <td>2017-08-14</td>\n",
       "      <td>79.0</td>\n",
       "    </tr>\n",
       "    <tr>\n",
       "      <th>8</th>\n",
       "      <td>USC00519397</td>\n",
       "      <td>2017-08-13</td>\n",
       "      <td>81.0</td>\n",
       "    </tr>\n",
       "    <tr>\n",
       "      <th>9</th>\n",
       "      <td>USC00519397</td>\n",
       "      <td>2017-08-12</td>\n",
       "      <td>80.0</td>\n",
       "    </tr>\n",
       "  </tbody>\n",
       "</table>\n",
       "</div>"
      ],
      "text/plain": [
       "    station_id        date  temperature\n",
       "0  USC00519397  2017-08-23         81.0\n",
       "1  USC00519397  2017-08-22         82.0\n",
       "2  USC00519397  2017-08-21         81.0\n",
       "3  USC00519397  2017-08-20         81.0\n",
       "4  USC00519397  2017-08-19         79.0\n",
       "5  USC00519397  2017-08-18         80.0\n",
       "6  USC00519397  2017-08-15         78.0\n",
       "7  USC00519397  2017-08-14         79.0\n",
       "8  USC00519397  2017-08-13         81.0\n",
       "9  USC00519397  2017-08-12         80.0"
      ]
     },
     "execution_count": 173,
     "metadata": {},
     "output_type": "execute_result"
    }
   ],
   "source": [
    "result = session.query(Measurement.station_id, Measurement.date, Measurement.temperature).\\\n",
    "    filter(Measurement.date > prev_year_date).\\\n",
    "    filter(Measurement.station_id == top_station).\\\n",
    "    order_by(Measurement.date.desc()).all()\n",
    "result\n",
    "df = pd.DataFrame(result, columns=[\"station_id\", \"date\", \"temperature\"])\n",
    "df.head(10)"
   ]
  },
  {
   "cell_type": "markdown",
   "metadata": {},
   "source": [
    "#### Plot the results as a histogram with bins=12."
   ]
  },
  {
   "cell_type": "code",
   "execution_count": 174,
   "metadata": {},
   "outputs": [
    {
     "data": {
      "image/png": "[encoded data removed]",
      "text/plain": [
       "<matplotlib.figure.Figure at 0x116d05780>"
      ]
     },
     "metadata": {},
     "output_type": "display_data"
    }
   ],
   "source": [
    "df.plot.hist(\"temperature\", 12)\n",
    "plt.ylabel(\"Frequency of Temperatures\", size=12)\n",
    "plt.xlabel(\"Temperature Ranges\", size=12)\n",
    "plt.title(\"Temperatures and their frequency recorded by {}\".format(top_station), size=12)\n",
    "plt.show()"
   ]
  },
  {
   "cell_type": "markdown",
   "metadata": {},
   "source": [
    "### Temperature Analysis\n",
    "Assuming we are planning a trip for the following dates:\n",
    "\n",
    "Start Date - 05/17/2018\n",
    "\n",
    "End Date - 05/25/2018\n",
    "\n",
    "We will find the expected min, max and avg temperatures for our trip using the data for the same dates for the previous year i.e. (04/10/2017 - 05/25/2017)\n",
    "\n",
    "We wil then plot the min, avg, and max temperature from our previous query as a bar chart with the average temperature as the bar height and the peak-to-peak (tmax-tmin) value as the y error bar (yerr)."
   ]
  },
  {
   "cell_type": "code",
   "execution_count": 175,
   "metadata": {
    "collapsed": true
   },
   "outputs": [],
   "source": [
    "# Create date objects to store the trip start and end dates\n",
    "trip_start = dt.date(2018,5,17)\n",
    "trip_end = dt.date(2018, 5, 25)"
   ]
  },
  {
   "cell_type": "code",
   "execution_count": 176,
   "metadata": {
    "collapsed": true
   },
   "outputs": [],
   "source": [
    "# This function accepts a start date and end date and returns the min, max and avg temperatures\n",
    "# for those dates.\n",
    "\n",
    "def calc_temps(start, end) :\n",
    "    avg_temp=0\n",
    "    min_temp = 0\n",
    "    max_temp=0\n",
    "    \n",
    "    result = session.query(Measurement.date, Measurement.temperature).\\\n",
    "        filter(Measurement.date > start).\\\n",
    "        filter(Measurement.date < end).\\\n",
    "        order_by(Measurement.date.desc()).all()\n",
    "    df = pd.DataFrame(result, columns=[\"date\", \"temperature\"])\n",
    "    avg_temp = df[\"temperature\"].mean()\n",
    "    min_temp = df[\"temperature\"].min()\n",
    "    max_temp = df[\"temperature\"].max()\n",
    "    \n",
    "    return(avg_temp, min_temp, max_temp)"
   ]
  },
  {
   "cell_type": "code",
   "execution_count": 177,
   "metadata": {
    "collapsed": true
   },
   "outputs": [],
   "source": [
    "t_avg, t_min, t_max = calc_temps(trip_start-dt.timedelta(days=365), trip_end-dt.timedelta(days=365))"
   ]
  },
  {
   "cell_type": "code",
   "execution_count": 178,
   "metadata": {
    "scrolled": true
   },
   "outputs": [
    {
     "data": {
      "image/png": "[encoded data removed]",
      "text/plain": [
       "<matplotlib.figure.Figure at 0x116c5b550>"
      ]
     },
     "metadata": {},
     "output_type": "display_data"
    }
   ],
   "source": [
    "plt.bar([1], [t_avg], yerr=t_max-t_min, width=0.4)\n",
    "plt.title(\"Trip Avg Temp\")\n",
    "plt.ylabel(\"Temp (F)\")\n",
    "plt.xlim(0,2)\n",
    "plt.xticks([],[])\n",
    "plt.show()"
   ]
  },
  {
   "cell_type": "markdown",
   "metadata": {
    "collapsed": true
   },
   "source": [
    "### Rainfall per weather Station\n",
    "We will now find the rainfall recorded by each weather station for the previous year's dates that match our planned trip dates for this year. Our trip dates are:\n",
    "\n",
    "Start Date - 05/17/2018\n",
    "\n",
    "End Date - 05/25/2018\n",
    "\n"
   ]
  },
  {
   "cell_type": "code",
   "execution_count": 179,
   "metadata": {
    "collapsed": true
   },
   "outputs": [],
   "source": [
    "# This function gets the min, max and avg rainfall for each station recorded between the\n",
    "# given start and end dates and returns a dataframe with the results\n",
    "def calc_rainfall(start, end) :\n",
    "    avg_rainfall=0\n",
    "    min_rainfall = 0\n",
    "    max_rainfall=0\n",
    "    \n",
    "    result = session.query(Station.station_id, func.min(Measurement.precipitation), func.max(Measurement.precipitation), func.avg(Measurement.precipitation)).\\\n",
    "        filter(Measurement.station_id == Station.station_id).\\\n",
    "        filter(Measurement.date > start).\\\n",
    "        filter(Measurement.date < end).\\\n",
    "        group_by(Station.station_id).all()\n",
    "    df = pd.DataFrame(result, columns=[\"station\", \"min rainfall\", \"max rainfall\", \"average rainfall\"])\n",
    "    \n",
    "    return(df)"
   ]
  },
  {
   "cell_type": "code",
   "execution_count": 180,
   "metadata": {},
   "outputs": [
    {
     "data": {
      "text/html": [
       "<div>\n",
       "<style>\n",
       "    .dataframe thead tr:only-child th {\n",
       "        text-align: right;\n",
       "    }\n",
       "\n",
       "    .dataframe thead th {\n",
       "        text-align: left;\n",
       "    }\n",
       "\n",
       "    .dataframe tbody tr th {\n",
       "        vertical-align: top;\n",
       "    }\n",
       "</style>\n",
       "<table border=\"1\" class=\"dataframe\">\n",
       "  <thead>\n",
       "    <tr style=\"text-align: right;\">\n",
       "      <th></th>\n",
       "      <th>station</th>\n",
       "      <th>min rainfall</th>\n",
       "      <th>max rainfall</th>\n",
       "      <th>average rainfall</th>\n",
       "    </tr>\n",
       "  </thead>\n",
       "  <tbody>\n",
       "    <tr>\n",
       "      <th>0</th>\n",
       "      <td>USC00513117</td>\n",
       "      <td>0.00</td>\n",
       "      <td>0.58</td>\n",
       "      <td>0.101429</td>\n",
       "    </tr>\n",
       "    <tr>\n",
       "      <th>1</th>\n",
       "      <td>USC00514830</td>\n",
       "      <td>0.01</td>\n",
       "      <td>0.16</td>\n",
       "      <td>0.078000</td>\n",
       "    </tr>\n",
       "    <tr>\n",
       "      <th>2</th>\n",
       "      <td>USC00516128</td>\n",
       "      <td>0.00</td>\n",
       "      <td>2.17</td>\n",
       "      <td>0.582000</td>\n",
       "    </tr>\n",
       "    <tr>\n",
       "      <th>3</th>\n",
       "      <td>USC00519281</td>\n",
       "      <td>0.01</td>\n",
       "      <td>0.30</td>\n",
       "      <td>0.084286</td>\n",
       "    </tr>\n",
       "    <tr>\n",
       "      <th>4</th>\n",
       "      <td>USC00519397</td>\n",
       "      <td>0.00</td>\n",
       "      <td>0.13</td>\n",
       "      <td>0.031429</td>\n",
       "    </tr>\n",
       "    <tr>\n",
       "      <th>5</th>\n",
       "      <td>USC00519523</td>\n",
       "      <td>0.00</td>\n",
       "      <td>0.61</td>\n",
       "      <td>0.214000</td>\n",
       "    </tr>\n",
       "  </tbody>\n",
       "</table>\n",
       "</div>"
      ],
      "text/plain": [
       "       station  min rainfall  max rainfall  average rainfall\n",
       "0  USC00513117          0.00          0.58          0.101429\n",
       "1  USC00514830          0.01          0.16          0.078000\n",
       "2  USC00516128          0.00          2.17          0.582000\n",
       "3  USC00519281          0.01          0.30          0.084286\n",
       "4  USC00519397          0.00          0.13          0.031429\n",
       "5  USC00519523          0.00          0.61          0.214000"
      ]
     },
     "execution_count": 180,
     "metadata": {},
     "output_type": "execute_result"
    }
   ],
   "source": [
    "rainfall_df = calc_rainfall(trip_start-dt.timedelta(days=365), trip_end-dt.timedelta(days=365))\n",
    "rainfall_df"
   ]
  },
  {
   "cell_type": "code",
   "execution_count": 181,
   "metadata": {},
   "outputs": [
    {
     "data": {
      "image/png": "[encoded data removed]",
      "text/plain": [
       "<matplotlib.figure.Figure at 0x119829f60>"
      ]
     },
     "metadata": {},
     "output_type": "display_data"
    }
   ],
   "source": [
    "# Plot the average rainfall for all stations above\n",
    "x_values = np.arange(1,len(rainfall_df)+1)\n",
    "\n",
    "plt.bar(x_values, rainfall_df[\"average rainfall\"], width=0.5)\n",
    "\n",
    "plt.title(\"Avg Rainfall per station\")\n",
    "plt.ylabel(\"Precipitation\")\n",
    "plt.xticks(x_values,rainfall_df[\"station\"], rotation=\"40\", ha=\"right\")\n",
    "plt.tight_layout()\n",
    "plt.show()"
   ]
  },
  {
   "cell_type": "markdown",
   "metadata": {},
   "source": [
    "### Dialy Normals  Temperatures\n",
    "\n",
    "Get the daily normals which are the averages for min, avg, and max temperatures. Then we will plot an area plot for the daily normals."
   ]
  },
  {
   "cell_type": "code",
   "execution_count": 182,
   "metadata": {},
   "outputs": [
    {
     "data": {
      "text/plain": [
       "[('2010-04-01', 74.0, 69.0, 72.14285714285714),\n",
       " ('2011-04-01', 76.0, 67.0, 72.55555555555556),\n",
       " ('2012-04-01', 75.0, 71.0, 73.5),\n",
       " ('2013-04-01', 68.0, 61.0, 64.5),\n",
       " ('2014-04-01', 76.0, 69.0, 72.5),\n",
       " ('2015-04-01', 78.0, 69.0, 73.5),\n",
       " ('2016-04-01', 77.0, 68.0, 72.71428571428571),\n",
       " ('2017-04-01', 80.0, 69.0, 75.5)]"
      ]
     },
     "execution_count": 182,
     "metadata": {},
     "output_type": "execute_result"
    }
   ],
   "source": [
    "# Running a test query to get the min, max and avg temperatures recorded for a specific test day & month\n",
    "conn.execute(\"select date, max(temperature), min(temperature), avg(temperature) \\\n",
    "            from measurements where date like '%-04-01' \\\n",
    "            group by date order by date\").fetchall()"
   ]
  },
  {
   "cell_type": "code",
   "execution_count": 183,
   "metadata": {
    "collapsed": true
   },
   "outputs": [],
   "source": [
    "# This function will return the normalized min, max and avg values of temperatures for a\n",
    "# given day of month extracted from the date passed in as a parameter.\n",
    "def get_daily_normals(d):\n",
    "    month_day = dt.date.strftime(d, '%m-%d')\n",
    "    \n",
    "    # Get the normals i.e. average min, average max and average avg of the above result\n",
    "    query_str = \"select avg(min_t), avg(max_t), avg(avg_t) \\\n",
    "                from (\\\n",
    "                    select date, min(temperature) min_t, \\\n",
    "                    max(temperature) max_t, avg(temperature) avg_t \\\n",
    "                    from measurements \\\n",
    "                    where date like '%-{}' \\\n",
    "                    group by date order by date)\".format(month_day)\n",
    "\n",
    "    result = conn.execute(query_str).fetchall()\n",
    "    return np.ravel(result)"
   ]
  },
  {
   "cell_type": "code",
   "execution_count": 184,
   "metadata": {
    "collapsed": true
   },
   "outputs": [],
   "source": [
    "# Get the start and end dates for the data we want to analyze\n",
    "start = trip_start-dt.timedelta(days=365)\n",
    "end = trip_end-dt.timedelta(days=365)"
   ]
  },
  {
   "cell_type": "code",
   "execution_count": 185,
   "metadata": {
    "collapsed": true
   },
   "outputs": [],
   "source": [
    "# Initialize variables\n",
    "delta = end-start\n",
    "trip_dates = []\n",
    "n_min = []\n",
    "n_max = []\n",
    "n_avg = []\n",
    "\n",
    "# for all the days from start to end, get the normals and append to the respective arrays\n",
    "for i in range(delta.days + 1):\n",
    "    curr_date = start + dt.timedelta(days=i)\n",
    "    normals = get_daily_normals(curr_date)\n",
    "    \n",
    "    trip_dates.append(dt.date.strftime(curr_date, '%m-%d'))\n",
    "    n_min.append(normals[0])\n",
    "    n_max.append(normals[1])\n",
    "    n_avg.append(normals[2])\n",
    "    \n",
    "# Create a data frame from the daily normals values\n",
    "normals_df = pd.DataFrame({\"date\": trip_dates, \n",
    "                           \"min temp\": n_min, \n",
    "                           \"max temp\": n_max, \n",
    "                           \"avg temp\": n_avg})\n"
   ]
  },
  {
   "cell_type": "code",
   "execution_count": 186,
   "metadata": {},
   "outputs": [
    {
     "data": {
      "text/html": [
       "<div>\n",
       "<style>\n",
       "    .dataframe thead tr:only-child th {\n",
       "        text-align: right;\n",
       "    }\n",
       "\n",
       "    .dataframe thead th {\n",
       "        text-align: left;\n",
       "    }\n",
       "\n",
       "    .dataframe tbody tr th {\n",
       "        vertical-align: top;\n",
       "    }\n",
       "</style>\n",
       "<table border=\"1\" class=\"dataframe\">\n",
       "  <thead>\n",
       "    <tr style=\"text-align: right;\">\n",
       "      <th></th>\n",
       "      <th>avg temp</th>\n",
       "      <th>max temp</th>\n",
       "      <th>min temp</th>\n",
       "    </tr>\n",
       "    <tr>\n",
       "      <th>date</th>\n",
       "      <th></th>\n",
       "      <th></th>\n",
       "      <th></th>\n",
       "    </tr>\n",
       "  </thead>\n",
       "  <tbody>\n",
       "    <tr>\n",
       "      <th>05-17</th>\n",
       "      <td>74.429315</td>\n",
       "      <td>77.750</td>\n",
       "      <td>70.125</td>\n",
       "    </tr>\n",
       "    <tr>\n",
       "      <th>05-18</th>\n",
       "      <td>74.062054</td>\n",
       "      <td>78.375</td>\n",
       "      <td>70.125</td>\n",
       "    </tr>\n",
       "    <tr>\n",
       "      <th>05-19</th>\n",
       "      <td>73.526042</td>\n",
       "      <td>77.500</td>\n",
       "      <td>68.625</td>\n",
       "    </tr>\n",
       "    <tr>\n",
       "      <th>05-20</th>\n",
       "      <td>73.877232</td>\n",
       "      <td>77.875</td>\n",
       "      <td>69.625</td>\n",
       "    </tr>\n",
       "    <tr>\n",
       "      <th>05-21</th>\n",
       "      <td>73.183333</td>\n",
       "      <td>77.125</td>\n",
       "      <td>68.500</td>\n",
       "    </tr>\n",
       "    <tr>\n",
       "      <th>05-22</th>\n",
       "      <td>74.415030</td>\n",
       "      <td>77.750</td>\n",
       "      <td>69.250</td>\n",
       "    </tr>\n",
       "    <tr>\n",
       "      <th>05-23</th>\n",
       "      <td>74.894792</td>\n",
       "      <td>79.000</td>\n",
       "      <td>70.500</td>\n",
       "    </tr>\n",
       "    <tr>\n",
       "      <th>05-24</th>\n",
       "      <td>74.091270</td>\n",
       "      <td>77.000</td>\n",
       "      <td>70.875</td>\n",
       "    </tr>\n",
       "    <tr>\n",
       "      <th>05-25</th>\n",
       "      <td>74.188740</td>\n",
       "      <td>77.375</td>\n",
       "      <td>70.125</td>\n",
       "    </tr>\n",
       "  </tbody>\n",
       "</table>\n",
       "</div>"
      ],
      "text/plain": [
       "        avg temp  max temp  min temp\n",
       "date                                \n",
       "05-17  74.429315    77.750    70.125\n",
       "05-18  74.062054    78.375    70.125\n",
       "05-19  73.526042    77.500    68.625\n",
       "05-20  73.877232    77.875    69.625\n",
       "05-21  73.183333    77.125    68.500\n",
       "05-22  74.415030    77.750    69.250\n",
       "05-23  74.894792    79.000    70.500\n",
       "05-24  74.091270    77.000    70.875\n",
       "05-25  74.188740    77.375    70.125"
      ]
     },
     "execution_count": 186,
     "metadata": {},
     "output_type": "execute_result"
    }
   ],
   "source": [
    "# Set the date as the index\n",
    "normals_df.set_index(\"date\", drop=True, inplace=True)\n",
    "normals_df"
   ]
  },
  {
   "cell_type": "code",
   "execution_count": 187,
   "metadata": {},
   "outputs": [
    {
     "data": {
      "image/png": "[encoded data removed]",
      "text/plain": [
       "<matplotlib.figure.Figure at 0x11973f9b0>"
      ]
     },
     "metadata": {},
     "output_type": "display_data"
    }
   ],
   "source": [
    "# Plot the daily normals using an area plot\n",
    "normals_df.plot.area(stacked=False)\n",
    "plt.ylabel(\"Temperarure (F)\")\n",
    "plt.title(\"Daily temperature for trip\")\n",
    "plt.xticks(rotation=\"40\", ha=\"right\")\n",
    "plt.show()"
   ]
  },
  {
   "cell_type": "code",
   "execution_count": null,
   "metadata": {
    "collapsed": true
   },
   "outputs": [],
   "source": []
  }
 ],
 "metadata": {
  "kernelspec": {
   "display_name": "Python 3",
   "language": "python",
   "name": "python3"
  },
  "language_info": {
   "codemirror_mode": {
    "name": "ipython",
    "version": 3
   },
   "file_extension": ".py",
   "mimetype": "text/x-python",
   "name": "python",
   "nbconvert_exporter": "python",
   "pygments_lexer": "ipython3",
   "version": "3.6.2"
  }
 },
 "nbformat": 4,
 "nbformat_minor": 2
}
